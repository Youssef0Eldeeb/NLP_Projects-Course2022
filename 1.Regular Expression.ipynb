{
 "cells": [
  {
   "cell_type": "code",
   "execution_count": 5,
   "id": "8daa5e69",
   "metadata": {},
   "outputs": [
    {
     "name": "stdout",
     "output_type": "stream",
     "text": [
      "['Ali23@gmail.com', 'MAli002@gmail.com', 'YOussef403@gmail.com', 'Joi340ahm@gmail.com', 'abdo4083abdo@gmail.com']\n",
      "['01167399043', '01221034848', '01012882932', '01594848903', '01293839022']\n"
     ]
    }
   ],
   "source": [
    "text = \"\"\"Hello, Mr\\ Ahmed \n",
    "\tI'm Ali and my email is Ali23@gmail.com and my other email is MAli002@gmail.com \n",
    "\tmy phone numbers is 01167399043 , 01221034848\n",
    "    this is list of data of custumer\n",
    "    1. YOussef403@gmail.com   01012882932\n",
    "    2. Joi340ahm@gmail.com  01594848903 \n",
    "    3. abdo4083abdo@gmail.com  01293839022\n",
    "    skfjka43@yahoo.com \n",
    "   \n",
    "    \"\"\"\n",
    "    \n",
    "gmailResult = []\n",
    "NPhoneResult = []\n",
    "for word in text.split():\n",
    "    if word.endswith('@gmail.com'):\n",
    "        gmailResult.append(word)\n",
    "\n",
    "for word in text.split():\n",
    "    if word.startswith('01'):\n",
    "        NPhoneResult.append(word)\n",
    "print(gmailResult)\n",
    "print(NPhoneResult)"
   ]
  },
  {
   "cell_type": "code",
   "execution_count": 3,
   "id": "f338a574",
   "metadata": {},
   "outputs": [
    {
     "name": "stdout",
     "output_type": "stream",
     "text": [
      "['Ali23@gmail.com', 'MAli002@gmail.com', 'YOussef403@gmail.com', 'Joi340ahm@gmail.com', 'abdo4083abdo@gmail.com', 'skfjka43@yahoo.com', 'kjkjkl_343@gmail.com', 'djfkl_53_kjf@gmail.com']\n",
      "['01167399043', '01221034848', '01012882932', '01594848903', '01293839022']\n"
     ]
    }
   ],
   "source": [
    "import re \n",
    "text = \"\"\"Hello, Mr\\ Ahmed \n",
    "\tI'm Ali and my email is Ali23@gmail.com and my other email is MAli002@gmail.com \n",
    "\tmy phone numbers is 01167399043 , 01221034848\n",
    "    this is list of data of custumer\n",
    "    1. YOussef403@gmail.com   01012882932\n",
    "    2. Joi340ahm@gmail.com  01594848903 \n",
    "    3. abdo4083abdo@gmail.com  01293839022\n",
    "    skfjka43@yahoo.com \n",
    "    kjkjkl_343@gmail.com\n",
    "    djfkl_53_kjf@gmail.com\n",
    "    g022093uiy87y\n",
    "    \"\"\"\n",
    "    \n",
    "gmailResult2 = re.findall(r'[A-Z+a-z+0-9_+]+@[A-Z+a-z+]+.[A-Z+a-z+]+',text)\n",
    "NPhoneResult2 = re.findall(r'01[0|1|2|5][0-9]{8}',text)\n",
    "print(gmailResult2)\n",
    "print(NPhoneResult2)"
   ]
  },
  {
   "cell_type": "code",
   "execution_count": null,
   "id": "39fb6dbe",
   "metadata": {},
   "outputs": [],
   "source": []
  }
 ],
 "metadata": {
  "kernelspec": {
   "display_name": "Python 3 (ipykernel)",
   "language": "python",
   "name": "python3"
  },
  "language_info": {
   "codemirror_mode": {
    "name": "ipython",
    "version": 3
   },
   "file_extension": ".py",
   "mimetype": "text/x-python",
   "name": "python",
   "nbconvert_exporter": "python",
   "pygments_lexer": "ipython3",
   "version": "3.9.7"
  }
 },
 "nbformat": 4,
 "nbformat_minor": 5
}
